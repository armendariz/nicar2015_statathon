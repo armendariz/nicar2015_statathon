{
 "metadata": {
  "name": "",
  "signature": "sha256:ca5f4664cb330c639a963f1fca576f835b795ed74024b44b8cdc069afb662e0d"
 },
 "nbformat": 3,
 "nbformat_minor": 0,
 "worksheets": [
  {
   "cells": [
    {
     "cell_type": "markdown",
     "metadata": {},
     "source": [
      "# Using python for statistical analysis\n",
      "\n",
      "There's an interactive shell for python called IPython that makes exploratory data analysis easier. And since you're using a programming language, it's reproducible. Plus you can use the IPython Notebook to present your final work.\n",
      "\n",
      "Also, the [Python Data Analysis Library](http://pandas.pydata.org/) or pandas is really powerful. I believe the acronym *pandas* comes from a combination of *panel data* & *python data analysis.* \n",
      "\n",
      "Don't confuse *pandas* with the equally great [PANDA: A Newsroom Data Appliance.](http://panda.readthedocs.org/en/1.1.1/)\n",
      "\n",
      "Finaly the creator of pandas wrote a [whole book](http://shop.oreilly.com/product/0636920023784.do) on how to use pandas and IPython to do data analysis.\n",
      "\n",
      "Now for the main event.\n",
      "\n",
      "The first block of python code sets things up. We fire up the charting library matplotlib in inline mode so that our charts are displayed here inside the notebook.\n",
      "\n",
      "Then we import the \"ordinary least squares\" statistical regression technique implemented in python by pandas.\n",
      "\n",
      "Then we import the whole pandas libary for us to use under the abbreviated name \"pd.\"\n",
      "\n",
      "After that the code is fairly straight forward."
     ]
    },
    {
     "cell_type": "code",
     "collapsed": false,
     "input": [
      "%matplotlib inline\n",
      "from pandas.stats.api import ols\n",
      "import pandas as pd"
     ],
     "language": "python",
     "metadata": {},
     "outputs": [],
     "prompt_number": 10
    },
    {
     "cell_type": "code",
     "collapsed": false,
     "input": [
      "df = pd.read_csv('testscores.csv')\n",
      "df.columns"
     ],
     "language": "python",
     "metadata": {},
     "outputs": [
      {
       "metadata": {},
       "output_type": "pyout",
       "prompt_number": 11,
       "text": [
        "Index([u'district', u'school', u'students', u'pcttest', u'pctpoor', u'score'], dtype='object')"
       ]
      }
     ],
     "prompt_number": 11
    },
    {
     "cell_type": "code",
     "collapsed": false,
     "input": [
      "df['score'].describe()"
     ],
     "language": "python",
     "metadata": {},
     "outputs": [
      {
       "metadata": {},
       "output_type": "pyout",
       "prompt_number": 12,
       "text": [
        "count    115.000000\n",
        "mean     182.867826\n",
        "std       30.024617\n",
        "min      100.000000\n",
        "25%      165.900000\n",
        "50%      191.300000\n",
        "75%      204.250000\n",
        "max      229.600000\n",
        "Name: score, dtype: float64"
       ]
      }
     ],
     "prompt_number": 12
    },
    {
     "cell_type": "code",
     "collapsed": false,
     "input": [
      "df['score'].hist()"
     ],
     "language": "python",
     "metadata": {},
     "outputs": [
      {
       "metadata": {},
       "output_type": "pyout",
       "prompt_number": 13,
       "text": [
        "<matplotlib.axes._subplots.AxesSubplot at 0x10cddcd50>"
       ]
      },
      {
       "metadata": {},
       "output_type": "display_data",
       "png": "[encoded data removed]",
       "text": [
        "<matplotlib.figure.Figure at 0x10cf95710>"
       ]
      }
     ],
     "prompt_number": 13
    },
    {
     "cell_type": "code",
     "collapsed": false,
     "input": [
      "df['pctpoor'].describe()"
     ],
     "language": "python",
     "metadata": {},
     "outputs": [
      {
       "metadata": {},
       "output_type": "pyout",
       "prompt_number": 14,
       "text": [
        "count    112.000000\n",
        "mean      45.952571\n",
        "std       30.699618\n",
        "min        5.687000\n",
        "25%       21.648000\n",
        "50%       34.834000\n",
        "75%       76.856250\n",
        "max      100.000000\n",
        "Name: pctpoor, dtype: float64"
       ]
      }
     ],
     "prompt_number": 14
    },
    {
     "cell_type": "code",
     "collapsed": false,
     "input": [
      "df['pctpoor'].hist()"
     ],
     "language": "python",
     "metadata": {},
     "outputs": [
      {
       "metadata": {},
       "output_type": "pyout",
       "prompt_number": 15,
       "text": [
        "<matplotlib.axes._subplots.AxesSubplot at 0x10e88bc10>"
       ]
      },
      {
       "metadata": {},
       "output_type": "display_data",
       "png": "[encoded data removed]",
       "text": [
        "<matplotlib.figure.Figure at 0x10e8bf6d0>"
       ]
      }
     ],
     "prompt_number": 15
    },
    {
     "cell_type": "code",
     "collapsed": false,
     "input": [
      "df.plot(kind='scatter', x='pctpoor', y='score')"
     ],
     "language": "python",
     "metadata": {},
     "outputs": [
      {
       "metadata": {},
       "output_type": "pyout",
       "prompt_number": 16,
       "text": [
        "<matplotlib.axes._subplots.AxesSubplot at 0x10e8d9fd0>"
       ]
      },
      {
       "metadata": {},
       "output_type": "display_data",
       "png": "[encoded data removed]",
       "text": [
        "<matplotlib.figure.Figure at 0x10e8dd0d0>"
       ]
      }
     ],
     "prompt_number": 16
    },
    {
     "cell_type": "code",
     "collapsed": false,
     "input": [
      "df.corr()"
     ],
     "language": "python",
     "metadata": {},
     "outputs": [
      {
       "html": [
        "<div style=\"max-height:1000px;max-width:1500px;overflow:auto;\">\n",
        "<table border=\"1\" class=\"dataframe\">\n",
        "  <thead>\n",
        "    <tr style=\"text-align: right;\">\n",
        "      <th></th>\n",
        "      <th>students</th>\n",
        "      <th>pcttest</th>\n",
        "      <th>pctpoor</th>\n",
        "      <th>score</th>\n",
        "    </tr>\n",
        "  </thead>\n",
        "  <tbody>\n",
        "    <tr>\n",
        "      <th>students</th>\n",
        "      <td> 1.000000</td>\n",
        "      <td> 0.174064</td>\n",
        "      <td>-0.433485</td>\n",
        "      <td> 0.461339</td>\n",
        "    </tr>\n",
        "    <tr>\n",
        "      <th>pcttest</th>\n",
        "      <td> 0.174064</td>\n",
        "      <td> 1.000000</td>\n",
        "      <td>-0.374446</td>\n",
        "      <td> 0.437552</td>\n",
        "    </tr>\n",
        "    <tr>\n",
        "      <th>pctpoor</th>\n",
        "      <td>-0.433485</td>\n",
        "      <td>-0.374446</td>\n",
        "      <td> 1.000000</td>\n",
        "      <td>-0.896007</td>\n",
        "    </tr>\n",
        "    <tr>\n",
        "      <th>score</th>\n",
        "      <td> 0.461339</td>\n",
        "      <td> 0.437552</td>\n",
        "      <td>-0.896007</td>\n",
        "      <td> 1.000000</td>\n",
        "    </tr>\n",
        "  </tbody>\n",
        "</table>\n",
        "</div>"
       ],
       "metadata": {},
       "output_type": "pyout",
       "prompt_number": 17,
       "text": [
        "          students   pcttest   pctpoor     score\n",
        "students  1.000000  0.174064 -0.433485  0.461339\n",
        "pcttest   0.174064  1.000000 -0.374446  0.437552\n",
        "pctpoor  -0.433485 -0.374446  1.000000 -0.896007\n",
        "score     0.461339  0.437552 -0.896007  1.000000"
       ]
      }
     ],
     "prompt_number": 17
    },
    {
     "cell_type": "code",
     "collapsed": false,
     "input": [
      "res = ols(y=df['score'], x=df['pctpoor'])\n",
      "res"
     ],
     "language": "python",
     "metadata": {},
     "outputs": [
      {
       "metadata": {},
       "output_type": "pyout",
       "prompt_number": 18,
       "text": [
        "\n",
        "-------------------------Summary of Regression Analysis-------------------------\n",
        "\n",
        "Formula: Y ~ <x> + <intercept>\n",
        "\n",
        "Number of Observations:         112\n",
        "Number of Degrees of Freedom:   2\n",
        "\n",
        "R-squared:         0.8028\n",
        "Adj R-squared:     0.8010\n",
        "\n",
        "Rmse:             12.8822\n",
        "\n",
        "F-stat (1, 110):   447.8889, p-value:     0.0000\n",
        "\n",
        "Degrees of Freedom: model 1, resid 110\n",
        "\n",
        "-----------------------Summary of Estimated Coefficients------------------------\n",
        "      Variable       Coef    Std Err     t-stat    p-value    CI 2.5%   CI 97.5%\n",
        "--------------------------------------------------------------------------------\n",
        "             x    -0.8429     0.0398     -21.16     0.0000    -0.9210    -0.7648\n",
        "     intercept   223.1391     2.1980     101.52     0.0000   218.8309   227.4473\n",
        "---------------------------------End of Summary---------------------------------"
       ]
      }
     ],
     "prompt_number": 18
    },
    {
     "cell_type": "markdown",
     "metadata": {},
     "source": [
      "# Interested in learning how seasoned reporters use statistics to get good stories?\n",
      "\n",
      "Go to an IRE/NICAR stats bootcamp like the one coming soon to Washington, DC"
     ]
    }
   ],
   "metadata": {}
  }
 ]
}